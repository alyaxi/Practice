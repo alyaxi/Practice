{
 "cells": [
  {
   "cell_type": "code",
   "execution_count": 1,
   "metadata": {},
   "outputs": [],
   "source": [
    "users = [\n",
    "    {\"id\": 0 , \"Name\":\"Ali\"},\n",
    "    {\"id\": 1 , \"Name\":\"Asim\"},\n",
    "    {\"id\": 2 , \"Name\":\"Uzair\"},\n",
    "    {\"id\": 3 , \"Name\":\"Farrukh\"},\n",
    "    {\"id\": 4 , \"Name\":\"Ateeb\"},\n",
    "    {\"id\": 5 , \"Name\":\"Waleed\"},\n",
    "    {\"id\": 6 , \"Name\":\"Tariq\"},\n",
    "    {\"id\": 7 , \"Name\":\"Arif\"},\n",
    "    {\"id\": 8 , \"Name\":\"Kashif\"},\n",
    "    {\"id\": 9 , \"Name\":\"Umair\"},\n",
    "    \n",
    "]"
   ]
  },
  {
   "cell_type": "code",
   "execution_count": 2,
   "metadata": {},
   "outputs": [],
   "source": [
    "friendship = [(0, 1), (0, 2), (1, 2), (2, 3), (1, 3), (3, 4), (4, 5), (5, 6), (5, 7), (6, 8), (7, 8),(8, 9)]"
   ]
  },
  {
   "cell_type": "code",
   "execution_count": 3,
   "metadata": {},
   "outputs": [],
   "source": [
    "for user in users:\n",
    "    user[\"friends\"]=[]"
   ]
  },
  {
   "cell_type": "code",
   "execution_count": 4,
   "metadata": {},
   "outputs": [
    {
     "data": {
      "text/plain": [
       "[{'id': 0, 'Name': 'Ali', 'friends': []},\n",
       " {'id': 1, 'Name': 'Asim', 'friends': []},\n",
       " {'id': 2, 'Name': 'Uzair', 'friends': []},\n",
       " {'id': 3, 'Name': 'Farrukh', 'friends': []},\n",
       " {'id': 4, 'Name': 'Ateeb', 'friends': []},\n",
       " {'id': 5, 'Name': 'Waleed', 'friends': []},\n",
       " {'id': 6, 'Name': 'Tariq', 'friends': []},\n",
       " {'id': 7, 'Name': 'Arif', 'friends': []},\n",
       " {'id': 8, 'Name': 'Kashif', 'friends': []},\n",
       " {'id': 9, 'Name': 'Umair', 'friends': []}]"
      ]
     },
     "execution_count": 4,
     "metadata": {},
     "output_type": "execute_result"
    }
   ],
   "source": [
    "users"
   ]
  },
  {
   "cell_type": "code",
   "execution_count": 5,
   "metadata": {},
   "outputs": [],
   "source": [
    "for i,j in friendship:\n",
    "    users[i][\"friends\"].append(users[j])\n",
    "    users[j][\"friends\"].append(users[i])\n",
    "\n"
   ]
  },
  {
   "cell_type": "code",
   "execution_count": 6,
   "metadata": {},
   "outputs": [
    {
     "name": "stdout",
     "output_type": "stream",
     "text": [
      "{'id': 0, 'Name': 'Ali', 'friends': [{'id': 1, 'Name': 'Asim', 'friends': [{...}, {'id': 2, 'Name': 'Uzair', 'friends': [{...}, {...}, {'id': 3, 'Name': 'Farrukh', 'friends': [{...}, {...}, {'id': 4, 'Name': 'Ateeb', 'friends': [{...}, {'id': 5, 'Name': 'Waleed', 'friends': [{...}, {'id': 6, 'Name': 'Tariq', 'friends': [{...}, {'id': 8, 'Name': 'Kashif', 'friends': [{...}, {'id': 7, 'Name': 'Arif', 'friends': [{...}, {...}]}, {'id': 9, 'Name': 'Umair', 'friends': [{...}]}]}]}, {'id': 7, 'Name': 'Arif', 'friends': [{...}, {'id': 8, 'Name': 'Kashif', 'friends': [{'id': 6, 'Name': 'Tariq', 'friends': [{...}, {...}]}, {...}, {'id': 9, 'Name': 'Umair', 'friends': [{...}]}]}]}]}]}]}]}, {'id': 3, 'Name': 'Farrukh', 'friends': [{'id': 2, 'Name': 'Uzair', 'friends': [{...}, {...}, {...}]}, {...}, {'id': 4, 'Name': 'Ateeb', 'friends': [{...}, {'id': 5, 'Name': 'Waleed', 'friends': [{...}, {'id': 6, 'Name': 'Tariq', 'friends': [{...}, {'id': 8, 'Name': 'Kashif', 'friends': [{...}, {'id': 7, 'Name': 'Arif', 'friends': [{...}, {...}]}, {'id': 9, 'Name': 'Umair', 'friends': [{...}]}]}]}, {'id': 7, 'Name': 'Arif', 'friends': [{...}, {'id': 8, 'Name': 'Kashif', 'friends': [{'id': 6, 'Name': 'Tariq', 'friends': [{...}, {...}]}, {...}, {'id': 9, 'Name': 'Umair', 'friends': [{...}]}]}]}]}]}]}]}, {'id': 2, 'Name': 'Uzair', 'friends': [{...}, {'id': 1, 'Name': 'Asim', 'friends': [{...}, {...}, {'id': 3, 'Name': 'Farrukh', 'friends': [{...}, {...}, {'id': 4, 'Name': 'Ateeb', 'friends': [{...}, {'id': 5, 'Name': 'Waleed', 'friends': [{...}, {'id': 6, 'Name': 'Tariq', 'friends': [{...}, {'id': 8, 'Name': 'Kashif', 'friends': [{...}, {'id': 7, 'Name': 'Arif', 'friends': [{...}, {...}]}, {'id': 9, 'Name': 'Umair', 'friends': [{...}]}]}]}, {'id': 7, 'Name': 'Arif', 'friends': [{...}, {'id': 8, 'Name': 'Kashif', 'friends': [{'id': 6, 'Name': 'Tariq', 'friends': [{...}, {...}]}, {...}, {'id': 9, 'Name': 'Umair', 'friends': [{...}]}]}]}]}]}]}]}, {'id': 3, 'Name': 'Farrukh', 'friends': [{...}, {'id': 1, 'Name': 'Asim', 'friends': [{...}, {...}, {...}]}, {'id': 4, 'Name': 'Ateeb', 'friends': [{...}, {'id': 5, 'Name': 'Waleed', 'friends': [{...}, {'id': 6, 'Name': 'Tariq', 'friends': [{...}, {'id': 8, 'Name': 'Kashif', 'friends': [{...}, {'id': 7, 'Name': 'Arif', 'friends': [{...}, {...}]}, {'id': 9, 'Name': 'Umair', 'friends': [{...}]}]}]}, {'id': 7, 'Name': 'Arif', 'friends': [{...}, {'id': 8, 'Name': 'Kashif', 'friends': [{'id': 6, 'Name': 'Tariq', 'friends': [{...}, {...}]}, {...}, {'id': 9, 'Name': 'Umair', 'friends': [{...}]}]}]}]}]}]}]}]}\n"
     ]
    }
   ],
   "source": [
    "print (users[0])"
   ]
  },
  {
   "cell_type": "code",
   "execution_count": 7,
   "metadata": {},
   "outputs": [
    {
     "name": "stdout",
     "output_type": "stream",
     "text": [
      "( 0 , 2 )\n",
      "( 1 , 3 )\n",
      "( 2 , 3 )\n",
      "( 3 , 3 )\n",
      "( 4 , 2 )\n",
      "( 5 , 3 )\n",
      "( 6 , 2 )\n",
      "( 7 , 2 )\n",
      "( 8 , 3 )\n",
      "( 9 , 1 )\n"
     ]
    }
   ],
   "source": [
    "for user in users:\n",
    "    print(\"(\",user[\"id\"],\",\",len(user[\"friends\"]),\")\")"
   ]
  },
  {
   "cell_type": "code",
   "execution_count": 8,
   "metadata": {},
   "outputs": [
    {
     "data": {
      "text/plain": [
       "24"
      ]
     },
     "execution_count": 8,
     "metadata": {},
     "output_type": "execute_result"
    }
   ],
   "source": [
    "sum([len(user[\"friends\"]) for user in users])"
   ]
  },
  {
   "cell_type": "code",
   "execution_count": 9,
   "metadata": {},
   "outputs": [
    {
     "data": {
      "text/plain": [
       "24"
      ]
     },
     "execution_count": 9,
     "metadata": {},
     "output_type": "execute_result"
    }
   ],
   "source": [
    "def total_connection(user):\n",
    "    return len(user[\"friends\"])\n",
    "final_total = sum(total_connection(user)for user in users)\n",
    "final_total"
   ]
  },
  {
   "cell_type": "code",
   "execution_count": 10,
   "metadata": {},
   "outputs": [
    {
     "data": {
      "text/plain": [
       "[2, 3, 3, 3, 2, 3, 2, 2, 3, 1]"
      ]
     },
     "execution_count": 10,
     "metadata": {},
     "output_type": "execute_result"
    }
   ],
   "source": [
    "[total_connection(user)for user in users]"
   ]
  },
  {
   "cell_type": "code",
   "execution_count": 11,
   "metadata": {},
   "outputs": [],
   "source": [
    "from __future__ import division\n",
    "num_user = len(users)\n",
    "avg_conn = final_total / num_user"
   ]
  },
  {
   "cell_type": "code",
   "execution_count": 12,
   "metadata": {},
   "outputs": [
    {
     "data": {
      "text/plain": [
       "2.4"
      ]
     },
     "execution_count": 12,
     "metadata": {},
     "output_type": "execute_result"
    }
   ],
   "source": [
    "avg_conn"
   ]
  },
  {
   "cell_type": "code",
   "execution_count": 13,
   "metadata": {},
   "outputs": [
    {
     "name": "stdout",
     "output_type": "stream",
     "text": [
      "[(0, 2), (1, 3), (2, 3), (3, 3), (4, 2), (5, 3), (6, 2), (7, 2), (8, 3), (9, 1)]\n"
     ]
    }
   ],
   "source": [
    "print([(user[\"id\"], total_connection(user))for user in users])\n",
    "\n"
   ]
  },
  {
   "cell_type": "code",
   "execution_count": 14,
   "metadata": {},
   "outputs": [
    {
     "data": {
      "text/plain": [
       "[(1, 3),\n",
       " (2, 3),\n",
       " (3, 3),\n",
       " (5, 3),\n",
       " (8, 3),\n",
       " (0, 2),\n",
       " (4, 2),\n",
       " (6, 2),\n",
       " (7, 2),\n",
       " (9, 1)]"
      ]
     },
     "execution_count": 14,
     "metadata": {},
     "output_type": "execute_result"
    }
   ],
   "source": [
    "num_friend_id = [(user[\"id\"],total_connection(user))for user in users]\n",
    "sorted(num_friend_id,\n",
    "      key=lambda x:x[1],\n",
    "      reverse=True)\n"
   ]
  },
  {
   "cell_type": "code",
   "execution_count": 15,
   "metadata": {},
   "outputs": [
    {
     "name": "stdout",
     "output_type": "stream",
     "text": [
      "(0, 1) (0, 2) (1, 2) (2, 3) (1, 3) (3, 4) (4, 5) (5, 6) (5, 7) (6, 8) (7, 8) (8, 9) "
     ]
    }
   ],
   "source": [
    "for a in friendship:\n",
    "    print(a,end = ' ')"
   ]
  },
  {
   "cell_type": "code",
   "execution_count": 27,
   "metadata": {},
   "outputs": [],
   "source": [
    "def friends_of_friend(user):\n",
    "       return [foaf[\"id\"]\n",
    "              for friend in user[\"friends\"]\n",
    "              for foaf in friend[\"friends\"]]"
   ]
  },
  {
   "cell_type": "code",
   "execution_count": 28,
   "metadata": {},
   "outputs": [
    {
     "name": "stdout",
     "output_type": "stream",
     "text": [
      "[1, 2]\n",
      "[0, 2, 3]\n",
      "[0, 1, 3]\n",
      "[2, 1, 4]\n"
     ]
    }
   ],
   "source": [
    "print([friend[\"id\"]for friend in users[0][\"friends\"]])\n",
    "print([friend[\"id\"]for friend in users[1][\"friends\"]])\n",
    "print([friend[\"id\"]for friend in users[2][\"friends\"]])\n",
    "print([friend[\"id\"]for friend in users[3][\"friends\"]])"
   ]
  },
  {
   "cell_type": "code",
   "execution_count": 29,
   "metadata": {},
   "outputs": [],
   "source": [
    "from collections import Counter "
   ]
  },
  {
   "cell_type": "code",
   "execution_count": 30,
   "metadata": {},
   "outputs": [],
   "source": [
    "def not_the_same(user,other_user):\n",
    "    return user[\"id\"] != other_user[\"id\"]"
   ]
  },
  {
   "cell_type": "code",
   "execution_count": 31,
   "metadata": {},
   "outputs": [],
   "source": [
    "def not_a_friend(friend,other_user):\n",
    "    return all(not_a_friend(friend,other_user)\n",
    "              for friend in user[\"friends\"])"
   ]
  },
  {
   "cell_type": "code",
   "execution_count": 55,
   "metadata": {},
   "outputs": [
    {
     "ename": "SyntaxError",
     "evalue": "invalid syntax (<ipython-input-55-7aede2dec99b>, line 3)",
     "output_type": "error",
     "traceback": [
      "\u001b[0;36m  File \u001b[0;32m\"<ipython-input-55-7aede2dec99b>\"\u001b[0;36m, line \u001b[0;32m3\u001b[0m\n\u001b[0;31m    for friend in user[\"friends\"] # for each of my friends\u001b[0m\n\u001b[0m      ^\u001b[0m\n\u001b[0;31mSyntaxError\u001b[0m\u001b[0;31m:\u001b[0m invalid syntax\n"
     ]
    }
   ],
   "source": [
    "def friends_of_friend_ids(user):\n",
    "     return Counter(foaf[\"id\"]\n",
    "                    for friend in user[\"friends\"] # for each of my friends\n",
    "                    for foaf in friend[\"friends\"] # count *their* friends\n",
    "                    if not_the_same(user, foaf) # who aren't me\n",
    "                    and not_a_friend(user, foaf)) # and aren't my friends"
   ]
  },
  {
   "cell_type": "code",
   "execution_count": 56,
   "metadata": {},
   "outputs": [
    {
     "ename": "RecursionError",
     "evalue": "maximum recursion depth exceeded while calling a Python object",
     "output_type": "error",
     "traceback": [
      "\u001b[0;31m---------------------------------------------------------------------------\u001b[0m",
      "\u001b[0;31mRecursionError\u001b[0m                            Traceback (most recent call last)",
      "\u001b[0;32m<ipython-input-56-e0f0ded7baaf>\u001b[0m in \u001b[0;36m<module>\u001b[0;34m()\u001b[0m\n\u001b[0;32m----> 1\u001b[0;31m \u001b[0mrun_time\u001b[0m \u001b[0;34m=\u001b[0m \u001b[0mfriends_of_friend_ids\u001b[0m\u001b[0;34m(\u001b[0m\u001b[0musers\u001b[0m\u001b[0;34m[\u001b[0m\u001b[0;36m0\u001b[0m\u001b[0;34m]\u001b[0m\u001b[0;34m)\u001b[0m\u001b[0;34m\u001b[0m\u001b[0m\n\u001b[0m",
      "\u001b[0;32m<ipython-input-51-1db9866b67ca>\u001b[0m in \u001b[0;36mfriends_of_friend_ids\u001b[0;34m(user)\u001b[0m\n\u001b[1;32m      1\u001b[0m \u001b[0;32mdef\u001b[0m \u001b[0mfriends_of_friend_ids\u001b[0m\u001b[0;34m(\u001b[0m\u001b[0muser\u001b[0m\u001b[0;34m)\u001b[0m\u001b[0;34m:\u001b[0m\u001b[0;34m\u001b[0m\u001b[0m\n\u001b[1;32m      2\u001b[0m      return Counter(foaf[\"id\"]\n\u001b[0;32m----> 3\u001b[0;31m                     \u001b[0;32mfor\u001b[0m \u001b[0mfriends\u001b[0m \u001b[0;32min\u001b[0m \u001b[0muser\u001b[0m\u001b[0;34m[\u001b[0m\u001b[0;34m\"friends\"\u001b[0m\u001b[0;34m]\u001b[0m \u001b[0;31m# for each of my friends\u001b[0m\u001b[0;34m\u001b[0m\u001b[0m\n\u001b[0m\u001b[1;32m      4\u001b[0m                     \u001b[0;32mfor\u001b[0m \u001b[0mfoaf\u001b[0m \u001b[0;32min\u001b[0m \u001b[0mfriends\u001b[0m\u001b[0;34m[\u001b[0m\u001b[0;34m\"friends\"\u001b[0m\u001b[0;34m]\u001b[0m \u001b[0;31m# count *their* friends\u001b[0m\u001b[0;34m\u001b[0m\u001b[0m\n\u001b[1;32m      5\u001b[0m                     \u001b[0;32mif\u001b[0m \u001b[0mnot_the_same\u001b[0m\u001b[0;34m(\u001b[0m\u001b[0muser\u001b[0m\u001b[0;34m,\u001b[0m \u001b[0mfoaf\u001b[0m\u001b[0;34m)\u001b[0m \u001b[0;31m# who aren't me\u001b[0m\u001b[0;34m\u001b[0m\u001b[0m\n",
      "\u001b[0;32m~/anaconda3/lib/python3.7/collections/__init__.py\u001b[0m in \u001b[0;36m__init__\u001b[0;34m(*args, **kwds)\u001b[0m\n\u001b[1;32m    564\u001b[0m             \u001b[0;32mraise\u001b[0m \u001b[0mTypeError\u001b[0m\u001b[0;34m(\u001b[0m\u001b[0;34m'expected at most 1 arguments, got %d'\u001b[0m \u001b[0;34m%\u001b[0m \u001b[0mlen\u001b[0m\u001b[0;34m(\u001b[0m\u001b[0margs\u001b[0m\u001b[0;34m)\u001b[0m\u001b[0;34m)\u001b[0m\u001b[0;34m\u001b[0m\u001b[0m\n\u001b[1;32m    565\u001b[0m         \u001b[0msuper\u001b[0m\u001b[0;34m(\u001b[0m\u001b[0mCounter\u001b[0m\u001b[0;34m,\u001b[0m \u001b[0mself\u001b[0m\u001b[0;34m)\u001b[0m\u001b[0;34m.\u001b[0m\u001b[0m__init__\u001b[0m\u001b[0;34m(\u001b[0m\u001b[0;34m)\u001b[0m\u001b[0;34m\u001b[0m\u001b[0m\n\u001b[0;32m--> 566\u001b[0;31m         \u001b[0mself\u001b[0m\u001b[0;34m.\u001b[0m\u001b[0mupdate\u001b[0m\u001b[0;34m(\u001b[0m\u001b[0;34m*\u001b[0m\u001b[0margs\u001b[0m\u001b[0;34m,\u001b[0m \u001b[0;34m**\u001b[0m\u001b[0mkwds\u001b[0m\u001b[0;34m)\u001b[0m\u001b[0;34m\u001b[0m\u001b[0m\n\u001b[0m\u001b[1;32m    567\u001b[0m \u001b[0;34m\u001b[0m\u001b[0m\n\u001b[1;32m    568\u001b[0m     \u001b[0;32mdef\u001b[0m \u001b[0m__missing__\u001b[0m\u001b[0;34m(\u001b[0m\u001b[0mself\u001b[0m\u001b[0;34m,\u001b[0m \u001b[0mkey\u001b[0m\u001b[0;34m)\u001b[0m\u001b[0;34m:\u001b[0m\u001b[0;34m\u001b[0m\u001b[0m\n",
      "\u001b[0;32m~/anaconda3/lib/python3.7/collections/__init__.py\u001b[0m in \u001b[0;36mupdate\u001b[0;34m(*args, **kwds)\u001b[0m\n\u001b[1;32m    651\u001b[0m                     \u001b[0msuper\u001b[0m\u001b[0;34m(\u001b[0m\u001b[0mCounter\u001b[0m\u001b[0;34m,\u001b[0m \u001b[0mself\u001b[0m\u001b[0;34m)\u001b[0m\u001b[0;34m.\u001b[0m\u001b[0mupdate\u001b[0m\u001b[0;34m(\u001b[0m\u001b[0miterable\u001b[0m\u001b[0;34m)\u001b[0m \u001b[0;31m# fast path when counter is empty\u001b[0m\u001b[0;34m\u001b[0m\u001b[0m\n\u001b[1;32m    652\u001b[0m             \u001b[0;32melse\u001b[0m\u001b[0;34m:\u001b[0m\u001b[0;34m\u001b[0m\u001b[0m\n\u001b[0;32m--> 653\u001b[0;31m                 \u001b[0m_count_elements\u001b[0m\u001b[0;34m(\u001b[0m\u001b[0mself\u001b[0m\u001b[0;34m,\u001b[0m \u001b[0miterable\u001b[0m\u001b[0;34m)\u001b[0m\u001b[0;34m\u001b[0m\u001b[0m\n\u001b[0m\u001b[1;32m    654\u001b[0m         \u001b[0;32mif\u001b[0m \u001b[0mkwds\u001b[0m\u001b[0;34m:\u001b[0m\u001b[0;34m\u001b[0m\u001b[0m\n\u001b[1;32m    655\u001b[0m             \u001b[0mself\u001b[0m\u001b[0;34m.\u001b[0m\u001b[0mupdate\u001b[0m\u001b[0;34m(\u001b[0m\u001b[0mkwds\u001b[0m\u001b[0;34m)\u001b[0m\u001b[0;34m\u001b[0m\u001b[0m\n",
      "\u001b[0;32m<ipython-input-51-1db9866b67ca>\u001b[0m in \u001b[0;36m<genexpr>\u001b[0;34m(.0)\u001b[0m\n\u001b[1;32m      4\u001b[0m                     \u001b[0;32mfor\u001b[0m \u001b[0mfoaf\u001b[0m \u001b[0;32min\u001b[0m \u001b[0mfriends\u001b[0m\u001b[0;34m[\u001b[0m\u001b[0;34m\"friends\"\u001b[0m\u001b[0;34m]\u001b[0m \u001b[0;31m# count *their* friends\u001b[0m\u001b[0;34m\u001b[0m\u001b[0m\n\u001b[1;32m      5\u001b[0m                     \u001b[0;32mif\u001b[0m \u001b[0mnot_the_same\u001b[0m\u001b[0;34m(\u001b[0m\u001b[0muser\u001b[0m\u001b[0;34m,\u001b[0m \u001b[0mfoaf\u001b[0m\u001b[0;34m)\u001b[0m \u001b[0;31m# who aren't me\u001b[0m\u001b[0;34m\u001b[0m\u001b[0m\n\u001b[0;32m----> 6\u001b[0;31m                     and not_a_friend(user, foaf)) # and aren't my friends\n\u001b[0m",
      "\u001b[0;32m<ipython-input-31-49b50411ac82>\u001b[0m in \u001b[0;36mnot_a_friend\u001b[0;34m(friend, other_user)\u001b[0m\n\u001b[1;32m      1\u001b[0m \u001b[0;32mdef\u001b[0m \u001b[0mnot_a_friend\u001b[0m\u001b[0;34m(\u001b[0m\u001b[0mfriend\u001b[0m\u001b[0;34m,\u001b[0m\u001b[0mother_user\u001b[0m\u001b[0;34m)\u001b[0m\u001b[0;34m:\u001b[0m\u001b[0;34m\u001b[0m\u001b[0m\n\u001b[1;32m      2\u001b[0m     return all(not_a_friend(friend,other_user)\n\u001b[0;32m----> 3\u001b[0;31m               for friend in user[\"friends\"])\n\u001b[0m",
      "\u001b[0;32m<ipython-input-31-49b50411ac82>\u001b[0m in \u001b[0;36m<genexpr>\u001b[0;34m(.0)\u001b[0m\n\u001b[1;32m      1\u001b[0m \u001b[0;32mdef\u001b[0m \u001b[0mnot_a_friend\u001b[0m\u001b[0;34m(\u001b[0m\u001b[0mfriend\u001b[0m\u001b[0;34m,\u001b[0m\u001b[0mother_user\u001b[0m\u001b[0;34m)\u001b[0m\u001b[0;34m:\u001b[0m\u001b[0;34m\u001b[0m\u001b[0m\n\u001b[1;32m      2\u001b[0m     return all(not_a_friend(friend,other_user)\n\u001b[0;32m----> 3\u001b[0;31m               for friend in user[\"friends\"])\n\u001b[0m",
      "... last 2 frames repeated, from the frame below ...\n",
      "\u001b[0;32m<ipython-input-31-49b50411ac82>\u001b[0m in \u001b[0;36mnot_a_friend\u001b[0;34m(friend, other_user)\u001b[0m\n\u001b[1;32m      1\u001b[0m \u001b[0;32mdef\u001b[0m \u001b[0mnot_a_friend\u001b[0m\u001b[0;34m(\u001b[0m\u001b[0mfriend\u001b[0m\u001b[0;34m,\u001b[0m\u001b[0mother_user\u001b[0m\u001b[0;34m)\u001b[0m\u001b[0;34m:\u001b[0m\u001b[0;34m\u001b[0m\u001b[0m\n\u001b[1;32m      2\u001b[0m     return all(not_a_friend(friend,other_user)\n\u001b[0;32m----> 3\u001b[0;31m               for friend in user[\"friends\"])\n\u001b[0m",
      "\u001b[0;31mRecursionError\u001b[0m: maximum recursion depth exceeded while calling a Python object"
     ]
    }
   ],
   "source": [
    "run_time = friends_of_friend_ids(users[0])"
   ]
  },
  {
   "cell_type": "code",
   "execution_count": null,
   "metadata": {},
   "outputs": [],
   "source": []
  },
  {
   "cell_type": "code",
   "execution_count": null,
   "metadata": {},
   "outputs": [],
   "source": []
  },
  {
   "cell_type": "code",
   "execution_count": null,
   "metadata": {},
   "outputs": [],
   "source": []
  }
 ],
 "metadata": {
  "kernelspec": {
   "display_name": "Python 3",
   "language": "python",
   "name": "python3"
  },
  "language_info": {
   "codemirror_mode": {
    "name": "ipython",
    "version": 3
   },
   "file_extension": ".py",
   "mimetype": "text/x-python",
   "name": "python",
   "nbconvert_exporter": "python",
   "pygments_lexer": "ipython3",
   "version": "3.7.0"
  }
 },
 "nbformat": 4,
 "nbformat_minor": 2
}
