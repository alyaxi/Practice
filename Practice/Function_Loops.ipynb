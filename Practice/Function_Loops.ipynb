{
 "cells": [
  {
   "cell_type": "code",
   "execution_count": 6,
   "metadata": {},
   "outputs": [
    {
     "name": "stdout",
     "output_type": "stream",
     "text": [
      "University name UIT\n",
      "My Name is Ali\n",
      "Educationp is BSCS\n",
      "Nationality is Pakistan\n"
     ]
    }
   ],
   "source": [
    "def Teacherinfo():\n",
    "    print(\"University name UIT\")\n",
    "    print(\"My Name is Ali\")\n",
    "    print(\"Educationp is BSCS\")\n",
    "    print(\"Nationality is Pakistan\")\n",
    "Teacherinfo()"
   ]
  },
  {
   "cell_type": "code",
   "execution_count": 7,
   "metadata": {},
   "outputs": [
    {
     "name": "stdout",
     "output_type": "stream",
     "text": [
      "University name UIT\n",
      "My Name is Ali\n",
      "Educationp is BSCS\n",
      "Nationality is Pakistan\n",
      "None\n"
     ]
    }
   ],
   "source": [
    "x = Teacherinfo()\n",
    "print(x)"
   ]
  },
  {
   "cell_type": "code",
   "execution_count": null,
   "metadata": {},
   "outputs": [],
   "source": [
    "def abc():\n",
    "    return \"Pakistan\""
   ]
  }
 ],
 "metadata": {
  "kernelspec": {
   "display_name": "Python 3",
   "language": "python",
   "name": "python3"
  },
  "language_info": {
   "codemirror_mode": {
    "name": "ipython",
    "version": 3
   },
   "file_extension": ".py",
   "mimetype": "text/x-python",
   "name": "python",
   "nbconvert_exporter": "python",
   "pygments_lexer": "ipython3",
   "version": "3.7.0"
  }
 },
 "nbformat": 4,
 "nbformat_minor": 2
}
